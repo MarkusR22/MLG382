{
 "cells": [
  {
   "cell_type": "code",
   "execution_count": 38,
   "id": "53d908c3",
   "metadata": {},
   "outputs": [],
   "source": [
    "import pandas as pd\n",
    "import numpy as np\n",
    "from sklearn.model_selection import train_test_split\n",
    "from sklearn.preprocessing import StandardScaler\n",
    "from tensorflow.keras.models import Sequential\n",
    "from tensorflow.keras.layers import Dense, Dropout\n",
    "from tensorflow.keras.utils import to_categorical\n",
    "from tensorflow.keras.callbacks import EarlyStopping"
   ]
  },
  {
   "cell_type": "code",
   "execution_count": 39,
   "id": "38f96cc2",
   "metadata": {},
   "outputs": [],
   "source": [
    "df = pd.read_csv(\"Student_performance_data.csv\")\n",
    "X = df.drop('GradeClass', axis=1)\n",
    "y = df['GradeClass']\n",
    "\n",
    "y_encoded = to_categorical(y)\n",
    "\n",
    "X_train, X_test, y_train, y_test = train_test_split(X, y_encoded, test_size=0.2, random_state=42)\n",
    "\n",
    "scaler = StandardScaler()\n",
    "X_train_scaled = scaler.fit_transform(X_train)\n",
    "X_test_scaled = scaler.transform(X_test)"
   ]
  },
  {
   "cell_type": "code",
   "execution_count": 40,
   "id": "3e992e60",
   "metadata": {},
   "outputs": [],
   "source": [
    "model = Sequential()\n",
    "model.add(Dense(256, input_dim=X_train_scaled.shape[1], activation='relu'))\n",
    "model.add(Dense(128, activation='relu'))\n",
    "model.add(Dropout(0.3))  \n",
    "model.add(Dense(64, activation='relu'))\n",
    "model.add(Dense(5, activation='softmax'))  "
   ]
  },
  {
   "cell_type": "code",
   "execution_count": 41,
   "id": "69e66b42",
   "metadata": {},
   "outputs": [],
   "source": [
    "\n",
    "model.compile(optimizer='adam',\n",
    "              loss='categorical_crossentropy',\n",
    "              metrics=['accuracy'])"
   ]
  },
  {
   "cell_type": "code",
   "execution_count": 42,
   "id": "5a49b5a5",
   "metadata": {},
   "outputs": [
    {
     "name": "stdout",
     "output_type": "stream",
     "text": [
      "Epoch 1/50\n",
      "48/48 [==============================] - 1s 6ms/step - loss: 1.1533 - accuracy: 0.5111 - val_loss: 0.9766 - val_accuracy: 0.6136\n",
      "Epoch 2/50\n",
      "48/48 [==============================] - 0s 2ms/step - loss: 0.8217 - accuracy: 0.7078 - val_loss: 0.8670 - val_accuracy: 0.6789\n",
      "Epoch 3/50\n",
      "48/48 [==============================] - 0s 2ms/step - loss: 0.6958 - accuracy: 0.7706 - val_loss: 0.7644 - val_accuracy: 0.7520\n",
      "Epoch 4/50\n",
      "48/48 [==============================] - 0s 2ms/step - loss: 0.6019 - accuracy: 0.8033 - val_loss: 0.6960 - val_accuracy: 0.7467\n",
      "Epoch 5/50\n",
      "48/48 [==============================] - 0s 2ms/step - loss: 0.5252 - accuracy: 0.8216 - val_loss: 0.6723 - val_accuracy: 0.7415\n",
      "Epoch 6/50\n",
      "48/48 [==============================] - 0s 2ms/step - loss: 0.4724 - accuracy: 0.8379 - val_loss: 0.6021 - val_accuracy: 0.7833\n",
      "Epoch 7/50\n",
      "48/48 [==============================] - 0s 2ms/step - loss: 0.4262 - accuracy: 0.8484 - val_loss: 0.5645 - val_accuracy: 0.7728\n",
      "Epoch 8/50\n",
      "48/48 [==============================] - 0s 2ms/step - loss: 0.3848 - accuracy: 0.8627 - val_loss: 0.5831 - val_accuracy: 0.7833\n",
      "Epoch 9/50\n",
      "48/48 [==============================] - 0s 2ms/step - loss: 0.3552 - accuracy: 0.8784 - val_loss: 0.5585 - val_accuracy: 0.7963\n",
      "Epoch 10/50\n",
      "48/48 [==============================] - 0s 2ms/step - loss: 0.3201 - accuracy: 0.8869 - val_loss: 0.5765 - val_accuracy: 0.7990\n",
      "Epoch 11/50\n",
      "48/48 [==============================] - 0s 4ms/step - loss: 0.3126 - accuracy: 0.8863 - val_loss: 0.5527 - val_accuracy: 0.8094\n",
      "Epoch 12/50\n",
      "48/48 [==============================] - 0s 3ms/step - loss: 0.2961 - accuracy: 0.8935 - val_loss: 0.5925 - val_accuracy: 0.8068\n",
      "Epoch 13/50\n",
      "48/48 [==============================] - 0s 2ms/step - loss: 0.2738 - accuracy: 0.9000 - val_loss: 0.5151 - val_accuracy: 0.7990\n",
      "Epoch 14/50\n",
      "48/48 [==============================] - 0s 2ms/step - loss: 0.2444 - accuracy: 0.9105 - val_loss: 0.5736 - val_accuracy: 0.8068\n",
      "Epoch 15/50\n",
      "48/48 [==============================] - 0s 2ms/step - loss: 0.2277 - accuracy: 0.9222 - val_loss: 0.5305 - val_accuracy: 0.8225\n",
      "Epoch 16/50\n",
      "48/48 [==============================] - 0s 2ms/step - loss: 0.2238 - accuracy: 0.9222 - val_loss: 0.5457 - val_accuracy: 0.8146\n",
      "Epoch 17/50\n",
      "48/48 [==============================] - 0s 2ms/step - loss: 0.1992 - accuracy: 0.9314 - val_loss: 0.5688 - val_accuracy: 0.8094\n",
      "Epoch 18/50\n",
      "48/48 [==============================] - 0s 2ms/step - loss: 0.1911 - accuracy: 0.9248 - val_loss: 0.6122 - val_accuracy: 0.8016\n",
      "Epoch 19/50\n",
      "48/48 [==============================] - 0s 2ms/step - loss: 0.1982 - accuracy: 0.9275 - val_loss: 0.5950 - val_accuracy: 0.7937\n",
      "Epoch 20/50\n",
      "48/48 [==============================] - 0s 3ms/step - loss: 0.1618 - accuracy: 0.9412 - val_loss: 0.6010 - val_accuracy: 0.7911\n",
      "Epoch 21/50\n",
      "48/48 [==============================] - 0s 2ms/step - loss: 0.1703 - accuracy: 0.9392 - val_loss: 0.5988 - val_accuracy: 0.7911\n",
      "Epoch 22/50\n",
      "48/48 [==============================] - 0s 2ms/step - loss: 0.1443 - accuracy: 0.9503 - val_loss: 0.6088 - val_accuracy: 0.7911\n",
      "Epoch 23/50\n",
      "48/48 [==============================] - 0s 2ms/step - loss: 0.1362 - accuracy: 0.9497 - val_loss: 0.5982 - val_accuracy: 0.7990\n",
      "Epoch 24/50\n",
      "48/48 [==============================] - 0s 3ms/step - loss: 0.1214 - accuracy: 0.9621 - val_loss: 0.6103 - val_accuracy: 0.8016\n",
      "Epoch 25/50\n",
      "48/48 [==============================] - 0s 2ms/step - loss: 0.1341 - accuracy: 0.9516 - val_loss: 0.7057 - val_accuracy: 0.7728\n",
      "Epoch 26/50\n",
      "48/48 [==============================] - 0s 2ms/step - loss: 0.1240 - accuracy: 0.9588 - val_loss: 0.6747 - val_accuracy: 0.7807\n",
      "Epoch 27/50\n",
      "48/48 [==============================] - 0s 2ms/step - loss: 0.1264 - accuracy: 0.9516 - val_loss: 0.6259 - val_accuracy: 0.7990\n",
      "Epoch 28/50\n",
      "48/48 [==============================] - 0s 2ms/step - loss: 0.1154 - accuracy: 0.9601 - val_loss: 0.6039 - val_accuracy: 0.8068\n"
     ]
    }
   ],
   "source": [
    "es = EarlyStopping(monitor='val_loss', patience=15, restore_best_weights=True)\n",
    "history = model.fit(X_train_scaled, y_train,\n",
    "                    validation_split=0.2,\n",
    "                    epochs=50,\n",
    "                    batch_size=32,\n",
    "                    callbacks=[es])"
   ]
  },
  {
   "cell_type": "code",
   "execution_count": 43,
   "id": "48033b74",
   "metadata": {},
   "outputs": [
    {
     "name": "stdout",
     "output_type": "stream",
     "text": [
      "15/15 [==============================] - 0s 1ms/step - loss: 0.5004 - accuracy: 0.8246\n",
      "Test Accuracy: 0.82\n"
     ]
    }
   ],
   "source": [
    "loss, accuracy = model.evaluate(X_test_scaled, y_test)\n",
    "print(f\"Test Accuracy: {accuracy:.2f}\")"
   ]
  },
  {
   "cell_type": "code",
   "execution_count": 44,
   "id": "5615859a",
   "metadata": {},
   "outputs": [
    {
     "data": {
      "image/png": "[encoded data removed]",
      "text/plain": [
       "<Figure size 640x480 with 1 Axes>"
      ]
     },
     "metadata": {},
     "output_type": "display_data"
    }
   ],
   "source": [
    "import matplotlib.pyplot as plt\n",
    "\n",
    "plt.plot(history.history['accuracy'], label='Train Accuracy')\n",
    "plt.plot(history.history['val_accuracy'], label='Validation Accuracy')\n",
    "plt.xlabel('Epoch')\n",
    "plt.ylabel('Accuracy')\n",
    "plt.legend()\n",
    "plt.show()"
   ]
  }
 ],
 "metadata": {
  "kernelspec": {
   "display_name": "tensorflow_env",
   "language": "python",
   "name": "python3"
  },
  "language_info": {
   "codemirror_mode": {
    "name": "ipython",
    "version": 3
   },
   "file_extension": ".py",
   "mimetype": "text/x-python",
   "name": "python",
   "nbconvert_exporter": "python",
   "pygments_lexer": "ipython3",
   "version": "3.9.18"
  }
 },
 "nbformat": 4,
 "nbformat_minor": 5
}
